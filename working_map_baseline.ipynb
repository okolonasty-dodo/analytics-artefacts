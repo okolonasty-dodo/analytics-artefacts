{
 "cells": [
  {
   "cell_type": "code",
   "execution_count": null,
   "id": "2782224b",
   "metadata": {},
   "outputs": [],
   "source": [
    "import pandas as pd\n",
    "import numpy as np\n",
    "import geopandas as gpd\n",
    "from matplotlib import pyplot as plt\n",
    "import json "
   ]
  },
  {
   "cell_type": "markdown",
   "id": "eaeece0c",
   "metadata": {},
   "source": [
    "https://github.com/okolonasty-dodo/Russia_geojson_OSM/blob/master/GeoJson's/Countries/Russia_regions.geojson"
   ]
  },
  {
   "cell_type": "code",
   "execution_count": null,
   "id": "7675f4b1",
   "metadata": {},
   "outputs": [],
   "source": [
    "f = open (\"Russia_regions.geojson\", \"r\")\n",
    "geo_json = json.loads(f.read())"
   ]
  },
  {
   "cell_type": "code",
   "execution_count": null,
   "id": "b0e6bb1f",
   "metadata": {},
   "outputs": [],
   "source": [
    "geo_json_regions = [geo_json[\"features\"][i][\"properties\"][\"region\"] for i in range(len(geo_json[\"features\"]))]"
   ]
  },
  {
   "cell_type": "code",
   "execution_count": null,
   "id": "0924966d",
   "metadata": {},
   "outputs": [],
   "source": [
    "data = pd.read_csv(\"Sessions_by_City_2023_06_21.csv\")\n",
    "data = data.fillna(\"NaN\")\n",
    "data[\"ClientCity\"] = data[\"ClientCity\"].str.replace('ё', 'e', regex=False)\n",
    "data[\"City\"] = data.ClientCity.apply(lambda x: x.split(\" (\")[0])\n",
    "data.head()"
   ]
  },
  {
   "cell_type": "code",
   "execution_count": null,
   "id": "38ac6f29",
   "metadata": {},
   "outputs": [],
   "source": [
    "regions = pd.read_csv(\"Города и Регионы России - main.csv\")\n",
    "regions[\"Город\"] = regions[\"Город\"].str.replace('ё', 'e', regex=False)\n",
    "regions[\"reg\"] = regions[\"Регион\"].apply(lambda x: x.split()[0])\n",
    "data_regions = list(regions[\"reg\"])\n",
    "regions.head()"
   ]
  },
  {
   "cell_type": "code",
   "execution_count": null,
   "id": "26b54d75",
   "metadata": {},
   "outputs": [],
   "source": [
    "new_regions = []\n",
    "for reg in data_regions:\n",
    "    for json_reg in geo_json_regions:\n",
    "        if reg in json_reg.split():\n",
    "            new_regions.append(json_reg)\n",
    "            break"
   ]
  },
  {
   "cell_type": "code",
   "execution_count": null,
   "id": "2cb64060",
   "metadata": {},
   "outputs": [],
   "source": [
    "regions[\"NewRegion\"] = new_regions\n",
    "data = pd.merge(data, regions, how = \"left\", left_on = \"City\", right_on = \"Город\" )\n",
    "data.head()"
   ]
  },
  {
   "cell_type": "code",
   "execution_count": null,
   "id": "7f416bb8",
   "metadata": {},
   "outputs": [],
   "source": [
    "regions[regions[\"Регион\"].apply(lambda x: x.find(\"аб\")) != -1]"
   ]
  },
  {
   "cell_type": "code",
   "execution_count": null,
   "id": "8c7fb1a7",
   "metadata": {},
   "outputs": [],
   "source": [
    "data[data[\"Регион\"].apply(lambda x: x.find(\"аб\")) != -1]"
   ]
  },
  {
   "cell_type": "code",
   "execution_count": null,
   "id": "368afe02",
   "metadata": {},
   "outputs": [],
   "source": [
    "data[data.NewRegion.isna()]"
   ]
  },
  {
   "cell_type": "code",
   "execution_count": null,
   "id": "203b91da",
   "metadata": {},
   "outputs": [],
   "source": [
    "d = data.groupby(by = [\"NewRegion\"])[[\"MenuVisited_Sessions\", \"OrderCreated_Sessions\", \"OrderCanceled_Sessions\"]].sum().reset_index()\n",
    "d[\"menu_order\"]          = round(d[\"OrderCreated_Sessions\"]  / d[\"MenuVisited_Sessions\"] * 100, 1)\n",
    "d[\"create_cancel_order\"] = round(d[\"OrderCanceled_Sessions\"] / d[\"OrderCreated_Sessions\"] * 100, 1)\n",
    "d.head()"
   ]
  },
  {
   "cell_type": "code",
   "execution_count": null,
   "id": "846e4721",
   "metadata": {},
   "outputs": [],
   "source": [
    "geo_json_regions"
   ]
  },
  {
   "cell_type": "code",
   "execution_count": null,
   "id": "da000024",
   "metadata": {},
   "outputs": [],
   "source": [
    "import plotly.express as px\n",
    "\n",
    "fig = px.choropleth_mapbox(d, geojson=geo_json, locations='NewRegion', \n",
    "                           color='menu_order', featureidkey = \"properties.region\",\n",
    "                           color_continuous_scale= \"RdYlGn\",#\"Magma\", #\"Viridis\",\n",
    "                           hover_name = \"NewRegion\",\n",
    "                           #range_color=(0, 1),\n",
    "                           mapbox_style=\"carto-positron\",\n",
    "                           #mapbox_style = \"carto-darkmatter\",\n",
    "                           zoom=3, center = {\"lat\": 55.44, \"lon\": 37.4},\n",
    "                           opacity=0.8,\n",
    "                           labels={'menu_order':'Конверсия меню-заказ',\n",
    "                                  \"NewRegion\": \"регион\"},\n",
    "                           #width = 1400,\n",
    "                           #height = 700\n",
    "                          )\n",
    "fig.update_layout(margin={\"r\":0,\"t\":0,\"l\":0,\"b\":0})\n",
    "#fig.show()"
   ]
  },
  {
   "cell_type": "code",
   "execution_count": null,
   "id": "3a875982",
   "metadata": {},
   "outputs": [],
   "source": [
    "fig_canceled = px.choropleth_mapbox(d, geojson=geo_json, locations='NewRegion', \n",
    "                           color='create_cancel_order', featureidkey = \"properties.region\",\n",
    "                           color_continuous_scale= \"Viridis\",#\"Magma\", #\"Viridis\",\n",
    "                           hover_name = \"NewRegion\",\n",
    "                           #range_color=(0, 1),\n",
    "                           mapbox_style=\"carto-positron\",\n",
    "                           #mapbox_style = \"carto-darkmatter\",\n",
    "                           zoom=3, center = {\"lat\": 55.44, \"lon\": 37.4},\n",
    "                           opacity=0.7,\n",
    "                           labels={'menu_order':'Конверсия меню-заказ',\n",
    "                                  \"NewRegion\": \"регион\"},\n",
    "                           #width = 1400,\n",
    "                           #height = 700\n",
    "                          )\n",
    "fig_canceled.update_layout(margin={\"r\":0,\"t\":0,\"l\":0,\"b\":0})\n",
    "#fig_canceled.show()"
   ]
  },
  {
   "cell_type": "code",
   "execution_count": null,
   "id": "cb5c2eef",
   "metadata": {},
   "outputs": [],
   "source": [
    "#from dash import Dash, html, dcc, callback, Output, Input\n",
    "from dash import Dash, dcc, html, Input, Output, callback\n",
    "import dash_auth\n",
    "import base64\n",
    "import datetime\n",
    "import io\n",
    "import plotly.express as px\n",
    "import pandas as pd"
   ]
  },
  {
   "cell_type": "code",
   "execution_count": null,
   "id": "baf73633",
   "metadata": {},
   "outputs": [],
   "source": [
    "PORT = 8005\n",
    "#ADDRESS = 127.0.0.1"
   ]
  },
  {
   "cell_type": "code",
   "execution_count": null,
   "id": "afb9c569",
   "metadata": {},
   "outputs": [],
   "source": [
    "'''\n",
    "VALID_USERNAME_PASSWORD_PAIRS = {\n",
    "    'hello': 'world'\n",
    "}\n",
    "'''\n",
    "\n",
    "app = Dash(__name__)\n",
    "\n",
    "'''\n",
    "auth = dash_auth.BasicAuth(\n",
    "    app,\n",
    "    VALID_USERNAME_PASSWORD_PAIRS\n",
    ")\n",
    "'''\n",
    "\n",
    "\n",
    "app.layout = html.Div(\n",
    "    children=[\n",
    "    html.H2(\n",
    "        children='Конверсия Меню-Заказ'\n",
    "    ),\n",
    "    html.A(\"Visit my Notion page for more...\", href='https://plot.ly', target=\"_blank\"),\n",
    "    dcc.Graph(\n",
    "        id='example-graph',\n",
    "        figure=fig\n",
    "    ),   \n",
    "])\n",
    "\n",
    "\n",
    "if __name__ == '__main__':\n",
    "    app.run(port=PORT, debug=False)"
   ]
  }
 ],
 "metadata": {
  "kernelspec": {
   "display_name": "Python 3 (ipykernel)",
   "language": "python",
   "name": "python3"
  },
  "language_info": {
   "codemirror_mode": {
    "name": "ipython",
    "version": 3
   },
   "file_extension": ".py",
   "mimetype": "text/x-python",
   "name": "python",
   "nbconvert_exporter": "python",
   "pygments_lexer": "ipython3",
   "version": "3.8.0"
  }
 },
 "nbformat": 4,
 "nbformat_minor": 5
}
